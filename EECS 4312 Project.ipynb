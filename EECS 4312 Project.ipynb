{
 "cells": [
  {
   "cell_type": "code",
   "execution_count": 1,
   "id": "f989b2c0",
   "metadata": {},
   "outputs": [
    {
     "name": "stdout",
     "output_type": "stream",
     "text": [
      "Requirement already satisfied: google-play-scraper in c:\\users\\sejal\\appdata\\local\\programs\\python\\python310\\lib\\site-packages (1.2.3)\n",
      "Note: you may need to restart the kernel to use updated packages.\n"
     ]
    }
   ],
   "source": [
    "pip install google-play-scraper"
   ]
  },
  {
   "cell_type": "code",
   "execution_count": 2,
   "id": "d7037524",
   "metadata": {},
   "outputs": [
    {
     "name": "stdout",
     "output_type": "stream",
     "text": [
      "Requirement already satisfied: pip in c:\\users\\sejal\\appdata\\local\\programs\\python\\python310\\lib\\site-packages (23.0.1)\n",
      "Note: you may need to restart the kernel to use updated packages.\n"
     ]
    }
   ],
   "source": [
    "pip install --upgrade pip"
   ]
  },
  {
   "cell_type": "code",
   "execution_count": 3,
   "id": "002afe45",
   "metadata": {},
   "outputs": [
    {
     "name": "stdout",
     "output_type": "stream",
     "text": [
      "Requirement already satisfied: pandas in c:\\users\\sejal\\appdata\\local\\programs\\python\\python310\\lib\\site-packages (1.5.3)\n",
      "Requirement already satisfied: numpy>=1.21.0 in c:\\users\\sejal\\appdata\\local\\programs\\python\\python310\\lib\\site-packages (from pandas) (1.23.3)\n",
      "Requirement already satisfied: pytz>=2020.1 in c:\\users\\sejal\\appdata\\local\\programs\\python\\python310\\lib\\site-packages (from pandas) (2022.4)\n",
      "Requirement already satisfied: python-dateutil>=2.8.1 in c:\\users\\sejal\\appdata\\local\\programs\\python\\python310\\lib\\site-packages (from pandas) (2.8.2)\n",
      "Requirement already satisfied: six>=1.5 in c:\\users\\sejal\\appdata\\local\\programs\\python\\python310\\lib\\site-packages (from python-dateutil>=2.8.1->pandas) (1.16.0)\n",
      "Note: you may need to restart the kernel to use updated packages.\n"
     ]
    }
   ],
   "source": [
    "pip install pandas"
   ]
  },
  {
   "cell_type": "code",
   "execution_count": 4,
   "id": "4ffc3f36",
   "metadata": {},
   "outputs": [
    {
     "name": "stdout",
     "output_type": "stream",
     "text": [
      "                 Package_Name        userName  \\\n",
      "0  org.thoughtcrime.securesms  Jonathan Moore   \n",
      "1  org.thoughtcrime.securesms      Amanda Lee   \n",
      "2  org.thoughtcrime.securesms       deb casey   \n",
      "3  org.thoughtcrime.securesms         D. Casu   \n",
      "4  org.thoughtcrime.securesms   William Sloma   \n",
      "\n",
      "                                             content  score  \n",
      "0  Jolly good. Does what you want and nothing you...      5  \n",
      "1                                           Nice app      4  \n",
      "2                                Works really well 👌      5  \n",
      "3              Lost 1 star for removing SMS support.      4  \n",
      "4  You stop allowing SMS, you serve no purpose an...      1  \n"
     ]
    }
   ],
   "source": [
    "from google_play_scraper import Sort, reviews_all\n",
    "import pandas as pd\n",
    "\n",
    "# input the app package name directly\n",
    "app_package = 'org.thoughtcrime.securesms'\n",
    "\n",
    "# scrape the app reviews\n",
    "reviews = reviews_all(\n",
    "    app_package,\n",
    "    lang='en',\n",
    "    country='ca',\n",
    "    sort=Sort.NEWEST,\n",
    "    count=1000\n",
    ")\n",
    "\n",
    "# create a dataframe from the reviews\n",
    "df = pd.DataFrame(reviews)\n",
    "df = df.assign(Package_Name=app_package)\n",
    "df = df[:1000]\n",
    "df = df.loc[:, ['Package_Name', 'userName', 'content', 'score']]\n",
    "# print the dataframe\n",
    "print(df.head())\n",
    "df.to_csv('Signal reviews.csv', index=False)"
   ]
  },
  {
   "cell_type": "markdown",
   "id": "ce3c71c4",
   "metadata": {},
   "source": [
    "Reference: https://www.linkedin.com/pulse/how-scrape-google-play-reviews-4-simple-steps-using-python-kundi/ \n",
    "All other apps were scraped in a similar manner."
   ]
  },
  {
   "cell_type": "code",
   "execution_count": 1,
   "id": "2a0b1a76",
   "metadata": {},
   "outputs": [
    {
     "name": "stdout",
     "output_type": "stream",
     "text": [
      "Requirement already satisfied: nltk in c:\\users\\sejal\\appdata\\local\\programs\\python\\python310\\lib\\site-packages (3.8.1)\n",
      "Requirement already satisfied: click in c:\\users\\sejal\\appdata\\local\\programs\\python\\python310\\lib\\site-packages (from nltk) (8.1.3)\n",
      "Requirement already satisfied: regex>=2021.8.3 in c:\\users\\sejal\\appdata\\local\\programs\\python\\python310\\lib\\site-packages (from nltk) (2023.3.22)\n",
      "Requirement already satisfied: joblib in c:\\users\\sejal\\appdata\\local\\programs\\python\\python310\\lib\\site-packages (from nltk) (1.2.0)\n",
      "Requirement already satisfied: tqdm in c:\\users\\sejal\\appdata\\local\\programs\\python\\python310\\lib\\site-packages (from nltk) (4.64.1)\n",
      "Requirement already satisfied: colorama in c:\\users\\sejal\\appdata\\local\\programs\\python\\python310\\lib\\site-packages (from click->nltk) (0.4.5)\n",
      "Note: you may need to restart the kernel to use updated packages.\n"
     ]
    }
   ],
   "source": [
    "pip install nltk"
   ]
  },
  {
   "cell_type": "code",
   "execution_count": 2,
   "id": "8e5b251f",
   "metadata": {},
   "outputs": [
    {
     "name": "stdout",
     "output_type": "stream",
     "text": [
      "Requirement already satisfied: openpyxl in c:\\users\\sejal\\appdata\\local\\programs\\python\\python310\\lib\\site-packages (3.1.2)\n",
      "Requirement already satisfied: et-xmlfile in c:\\users\\sejal\\appdata\\local\\programs\\python\\python310\\lib\\site-packages (from openpyxl) (1.1.0)\n",
      "Note: you may need to restart the kernel to use updated packages.\n"
     ]
    }
   ],
   "source": [
    "pip install openpyxl"
   ]
  },
  {
   "cell_type": "code",
   "execution_count": 3,
   "id": "e1ae066b",
   "metadata": {},
   "outputs": [
    {
     "name": "stdout",
     "output_type": "stream",
     "text": [
      "Requirement already satisfied: inflect in c:\\users\\sejal\\appdata\\local\\programs\\python\\python310\\lib\\site-packages (6.0.2)\n",
      "Requirement already satisfied: pydantic>=1.9.1 in c:\\users\\sejal\\appdata\\local\\programs\\python\\python310\\lib\\site-packages (from inflect) (1.10.7)\n",
      "Requirement already satisfied: typing-extensions>=4.2.0 in c:\\users\\sejal\\appdata\\local\\programs\\python\\python310\\lib\\site-packages (from pydantic>=1.9.1->inflect) (4.4.0)\n",
      "Note: you may need to restart the kernel to use updated packages.\n"
     ]
    }
   ],
   "source": [
    "pip install inflect"
   ]
  },
  {
   "cell_type": "code",
   "execution_count": 4,
   "id": "8429f126",
   "metadata": {},
   "outputs": [
    {
     "name": "stdout",
     "output_type": "stream",
     "text": [
      "Requirement already satisfied: vader in c:\\users\\sejal\\appdata\\local\\programs\\python\\python310\\lib\\site-packages (0.0.3)\n",
      "Requirement already satisfied: scikit-learn in c:\\users\\sejal\\appdata\\local\\programs\\python\\python310\\lib\\site-packages (from vader) (1.1.3)\n",
      "Requirement already satisfied: numpy in c:\\users\\sejal\\appdata\\local\\programs\\python\\python310\\lib\\site-packages (from vader) (1.23.3)\n",
      "Requirement already satisfied: scipy in c:\\users\\sejal\\appdata\\local\\programs\\python\\python310\\lib\\site-packages (from vader) (1.9.2)\n",
      "Requirement already satisfied: sonopy in c:\\users\\sejal\\appdata\\local\\programs\\python\\python310\\lib\\site-packages (from vader) (0.1.2)\n",
      "Requirement already satisfied: threadpoolctl>=2.0.0 in c:\\users\\sejal\\appdata\\local\\programs\\python\\python310\\lib\\site-packages (from scikit-learn->vader) (3.1.0)\n",
      "Requirement already satisfied: joblib>=1.0.0 in c:\\users\\sejal\\appdata\\local\\programs\\python\\python310\\lib\\site-packages (from scikit-learn->vader) (1.2.0)\n",
      "Note: you may need to restart the kernel to use updated packages.\n"
     ]
    }
   ],
   "source": [
    "pip install vader"
   ]
  },
  {
   "cell_type": "code",
   "execution_count": 5,
   "id": "e838a54b",
   "metadata": {},
   "outputs": [
    {
     "name": "stdout",
     "output_type": "stream",
     "text": [
      "Requirement already satisfied: textblob in c:\\users\\sejal\\appdata\\local\\programs\\python\\python310\\lib\\site-packages (0.17.1)\n",
      "Requirement already satisfied: nltk>=3.1 in c:\\users\\sejal\\appdata\\local\\programs\\python\\python310\\lib\\site-packages (from textblob) (3.8.1)\n",
      "Requirement already satisfied: click in c:\\users\\sejal\\appdata\\local\\programs\\python\\python310\\lib\\site-packages (from nltk>=3.1->textblob) (8.1.3)\n",
      "Requirement already satisfied: regex>=2021.8.3 in c:\\users\\sejal\\appdata\\local\\programs\\python\\python310\\lib\\site-packages (from nltk>=3.1->textblob) (2023.3.22)\n",
      "Requirement already satisfied: tqdm in c:\\users\\sejal\\appdata\\local\\programs\\python\\python310\\lib\\site-packages (from nltk>=3.1->textblob) (4.64.1)\n",
      "Requirement already satisfied: joblib in c:\\users\\sejal\\appdata\\local\\programs\\python\\python310\\lib\\site-packages (from nltk>=3.1->textblob) (1.2.0)\n",
      "Requirement already satisfied: colorama in c:\\users\\sejal\\appdata\\local\\programs\\python\\python310\\lib\\site-packages (from click->nltk>=3.1->textblob) (0.4.5)\n",
      "Note: you may need to restart the kernel to use updated packages.\n"
     ]
    }
   ],
   "source": [
    "pip install textblob"
   ]
  },
  {
   "cell_type": "code",
   "execution_count": 6,
   "id": "2ad9f3be",
   "metadata": {},
   "outputs": [
    {
     "name": "stderr",
     "output_type": "stream",
     "text": [
      "[nltk_data] Downloading package stopwords to\n",
      "[nltk_data]     C:\\Users\\sejal\\AppData\\Roaming\\nltk_data...\n",
      "[nltk_data]   Package stopwords is already up-to-date!\n"
     ]
    },
    {
     "data": {
      "text/plain": [
       "True"
      ]
     },
     "execution_count": 6,
     "metadata": {},
     "output_type": "execute_result"
    }
   ],
   "source": [
    "import nltk\n",
    "nltk.download('stopwords')"
   ]
  },
  {
   "cell_type": "code",
   "execution_count": 7,
   "id": "01d0b9e0",
   "metadata": {},
   "outputs": [
    {
     "name": "stderr",
     "output_type": "stream",
     "text": [
      "[nltk_data] Downloading package vader_lexicon to\n",
      "[nltk_data]     C:\\Users\\sejal\\AppData\\Roaming\\nltk_data...\n",
      "[nltk_data]   Package vader_lexicon is already up-to-date!\n"
     ]
    },
    {
     "data": {
      "text/plain": [
       "True"
      ]
     },
     "execution_count": 7,
     "metadata": {},
     "output_type": "execute_result"
    }
   ],
   "source": [
    "nltk.download('vader_lexicon')"
   ]
  },
  {
   "cell_type": "code",
   "execution_count": 8,
   "id": "850b8516",
   "metadata": {},
   "outputs": [],
   "source": [
    "import pandas as pd\n",
    "import re\n",
    "import string\n",
    "from nltk.corpus import stopwords\n",
    "from nltk.stem import WordNetLemmatizer\n",
    "from textblob import TextBlob\n",
    "from nltk.sentiment.vader import SentimentIntensityAnalyzer\n",
    "import inflect"
   ]
  },
  {
   "cell_type": "code",
   "execution_count": 9,
   "id": "c3c22a4b",
   "metadata": {},
   "outputs": [],
   "source": [
    "# Remove punctuations from the reviewcolumn\n",
    "def punctuations(reviewcolumn):\n",
    "    return reviewcolumn.str.replace(f\"[{string.punctuation}]\", '', regex = True)"
   ]
  },
  {
   "cell_type": "code",
   "execution_count": 10,
   "id": "626c5fee",
   "metadata": {},
   "outputs": [],
   "source": [
    "# Removes special characters and emojies from the reviewcolumn\n",
    "def characterandemoji(reviewcolumn):\n",
    "    reviewcolumn = reviewcolumn.str.replace(r'[^\\w\\s]|_', '',  regex = True)  # Remove special characters\n",
    "    reviewcolumn = reviewcolumn.str.encode('ascii', 'ignore').str.decode('ascii')  # Remove emojies\n",
    "    return reviewcolumn"
   ]
  },
  {
   "cell_type": "code",
   "execution_count": 11,
   "id": "63fd2e46",
   "metadata": {},
   "outputs": [],
   "source": [
    "# Convert numbers to words\n",
    "# I have used the inflect library to convert the numbers to words\n",
    "def numbertowords(reviewcolumn):\n",
    "    for i in range(len(reviewcolumn)):\n",
    "        words = []\n",
    "        review = str(reviewcolumn[i])\n",
    "        for match in re.finditer(r'\\d+|\\D+', review):\n",
    "            word = match.group(0)\n",
    "            if word.isdigit():\n",
    "                words.append(inflect.engine().number_to_words(word))\n",
    "            elif any(char.isdigit() for char in word):\n",
    "                parts = re.findall(r'\\d+|\\D+', word)\n",
    "                modified = []\n",
    "                for part in parts:\n",
    "                    if part.isdigit():\n",
    "                        modified.append(inflect.engine().number_to_words(part))\n",
    "                    else:\n",
    "                        modified.append(part)\n",
    "                    words.append(''.join(modified))\n",
    "            else:\n",
    "                words.append(word)\n",
    "        reviewcolumn[i] = ''.join(words)\n",
    "    return reviewcolumn"
   ]
  },
  {
   "cell_type": "code",
   "execution_count": 12,
   "id": "34ac2bf9",
   "metadata": {},
   "outputs": [],
   "source": [
    "# Removes extra white spaces\n",
    "def extraspace(reviewcolumn):\n",
    "    reviewcolumn = reviewcolumn.str.replace(r'\\s+', ' ', regex = True)\n",
    "    return reviewcolumn"
   ]
  },
  {
   "cell_type": "code",
   "execution_count": 13,
   "id": "dd499711",
   "metadata": {},
   "outputs": [],
   "source": [
    "# Changes the reviews in reviewcolumn to lowercase\n",
    "def lowercase(reviewcolumn):\n",
    "    reviewcolumn = reviewcolumn.str.lower()\n",
    "    return reviewcolumn"
   ]
  },
  {
   "cell_type": "code",
   "execution_count": 14,
   "id": "ec6988b9",
   "metadata": {},
   "outputs": [],
   "source": [
    "# Remove stopwords\n",
    "def removestop(reviewcolumn):\n",
    "    stopwordslist = stopwords.words('english')\n",
    "    filteredreviews = []\n",
    "    for i in range(len(reviewcolumn)):\n",
    "        words = []\n",
    "        for word in reviewcolumn[i].split():\n",
    "            if word not in stopwordslist:\n",
    "                words.append(word)\n",
    "        filteredreviews.append(' '.join(words))\n",
    "    return pd.DataFrame(filteredreviews, columns=['Review'])"
   ]
  },
  {
   "cell_type": "code",
   "execution_count": 15,
   "id": "75acb448",
   "metadata": {},
   "outputs": [],
   "source": [
    "# Lemmatizes the words in the reviews of reviewcolumn\n",
    "def lemmatize(filteredreviews):\n",
    "    lemmatizer = WordNetLemmatizer()\n",
    "    lemmatizedreviews = []\n",
    "    for review in filteredreviews['Review']:\n",
    "        words = review.split()\n",
    "        lemmatizedwords = []\n",
    "        for word in words:\n",
    "            lemmatizedword = lemmatizer.lemmatize(word)\n",
    "            lemmatizedwords.append(lemmatizedword)\n",
    "        lemmatizedreview = ' '.join(lemmatizedwords)\n",
    "        lemmatizedreviews.append(lemmatizedreview)\n",
    "    filteredreviews['Review'] = lemmatizedreviews\n",
    "    return filteredreviews"
   ]
  },
  {
   "cell_type": "code",
   "execution_count": 16,
   "id": "3478acbd",
   "metadata": {},
   "outputs": [],
   "source": [
    "# Calculates the polarity of each review from Textblob library\n",
    "def textblobpolarity(reviewcolumn):\n",
    "    polarities = []\n",
    "    for review in reviewcolumn['Review']:\n",
    "        blob = TextBlob(review)\n",
    "        polarity = blob.sentiment.polarity\n",
    "        polarities.append(polarity)\n",
    "    result = pd.DataFrame({'App\\'s package name': reviews['Package Name'],'Review': reviewcolumn['Review'],'Polarity': polarities})\n",
    "    return result"
   ]
  },
  {
   "cell_type": "code",
   "execution_count": 17,
   "id": "f1ddc547",
   "metadata": {},
   "outputs": [],
   "source": [
    "# Calculate the polarity of each review from Vader library\n",
    "def vaderpolarity(reviewcolumn):\n",
    "    polarities = []\n",
    "    for review in reviewcolumn['Review']:\n",
    "        scores = SentimentIntensityAnalyzer().polarity_scores(review)\n",
    "        polarities.append(scores['compound'])\n",
    "    result = pd.DataFrame({'App\\'s package name': reviews['Package Name'],'Review': reviewcolumn['Review'],'Polarity': polarities})\n",
    "    return result"
   ]
  },
  {
   "cell_type": "markdown",
   "id": "04a6be1b",
   "metadata": {},
   "source": [
    "SUD: QKSMS"
   ]
  },
  {
   "cell_type": "code",
   "execution_count": 18,
   "id": "e99b9880",
   "metadata": {},
   "outputs": [
    {
     "name": "stdout",
     "output_type": "stream",
     "text": [
      "Before pre-processing: \n",
      "0     Crashing on me on p, Not sure why it is doing ...\n",
      "1                                           Easy to use\n",
      "2     I think Indians can't make trully free and ope...\n",
      "3     Why does this app require camer accesess? The ...\n",
      "4                                           I love y ou\n",
      "5     Thought I would give this a try. Nice UI and c...\n",
      "6     So far so good... Easier to use and configure ...\n",
      "7     Awesome alternative to onboard text messaging ...\n",
      "8                                  material you? plans?\n",
      "9     Worst app ever. Won't let you add sender to co...\n",
      "10    I love the fact it blocks scammers with should...\n",
      "11    Sometimes I want to delete all the posts in a ...\n",
      "12                                Please update the app\n",
      "13    Installed because Signal will no longer suppor...\n",
      "14    I am having an issue with this texting app. It...\n",
      "Name: Review, dtype: object\n"
     ]
    }
   ],
   "source": [
    "reviews = pd.read_csv('com.moez.QKSMS.csv')\n",
    "reviewcolumn = reviews['Review']\n",
    "# Print first 15 rows of review column before pre-processing\n",
    "print(\"Before pre-processing: \")\n",
    "print(reviewcolumn.head(15))"
   ]
  },
  {
   "cell_type": "markdown",
   "id": "859ae834",
   "metadata": {},
   "source": [
    "TASK 2: PRE-PROCESS YOUR TEXT"
   ]
  },
  {
   "cell_type": "code",
   "execution_count": 19,
   "id": "7862f7de",
   "metadata": {},
   "outputs": [
    {
     "name": "stdout",
     "output_type": "stream",
     "text": [
      "After removing punctuations:\n",
      "0     Crashing on me on p Not sure why it is doing t...\n",
      "1                                           Easy to use\n",
      "2     I think Indians cant make trully free and open...\n",
      "3     Why does this app require camer accesess The t...\n",
      "4                                           I love y ou\n",
      "5     Thought I would give this a try Nice UI and cu...\n",
      "6     So far so good Easier to use and configure tha...\n",
      "7     Awesome alternative to onboard text messaging ...\n",
      "8                                    material you plans\n",
      "9     Worst app ever Wont let you add sender to cont...\n",
      "10    I love the fact it blocks scammers with should...\n",
      "11    Sometimes I want to delete all the posts in a ...\n",
      "12                                Please update the app\n",
      "13    Installed because Signal will no longer suppor...\n",
      "14    I am having an issue with this texting app Its...\n",
      "Name: Review, dtype: object\n",
      "\n",
      "After removing special characters and emojies:\n",
      "0     Crashing on me on p Not sure why it is doing t...\n",
      "1                                           Easy to use\n",
      "2     I think Indians cant make trully free and open...\n",
      "3     Why does this app require camer accesess The t...\n",
      "4                                           I love y ou\n",
      "5     Thought I would give this a try Nice UI and cu...\n",
      "6     So far so good Easier to use and configure tha...\n",
      "7     Awesome alternative to onboard text messaging ...\n",
      "8                                    material you plans\n",
      "9     Worst app ever Wont let you add sender to cont...\n",
      "10    I love the fact it blocks scammers with should...\n",
      "11    Sometimes I want to delete all the posts in a ...\n",
      "12                                Please update the app\n",
      "13    Installed because Signal will no longer suppor...\n",
      "14    I am having an issue with this texting app Its...\n",
      "Name: Review, dtype: object\n",
      "\n",
      "After converting number to text:\n",
      "0     Crashing on me on p Not sure why it is doing t...\n",
      "1                                           Easy to use\n",
      "2     I think Indians cant make trully free and open...\n",
      "3     Why does this app require camer accesess The t...\n",
      "4                                           I love y ou\n",
      "5     Thought I would give this a try Nice UI and cu...\n",
      "6     So far so good Easier to use and configure tha...\n",
      "7     Awesome alternative to onboard text messaging ...\n",
      "8                                    material you plans\n",
      "9     Worst app ever Wont let you add sender to cont...\n",
      "10    I love the fact it blocks scammers with should...\n",
      "11    Sometimes I want to delete all the posts in a ...\n",
      "12                                Please update the app\n",
      "13    Installed because Signal will no longer suppor...\n",
      "14    I am having an issue with this texting app Its...\n",
      "Name: Review, dtype: object\n",
      "\n",
      "After removing extra white spaces:\n",
      "0     Crashing on me on p Not sure why it is doing t...\n",
      "1                                           Easy to use\n",
      "2     I think Indians cant make trully free and open...\n",
      "3     Why does this app require camer accesess The t...\n",
      "4                                           I love y ou\n",
      "5     Thought I would give this a try Nice UI and cu...\n",
      "6     So far so good Easier to use and configure tha...\n",
      "7     Awesome alternative to onboard text messaging ...\n",
      "8                                    material you plans\n",
      "9     Worst app ever Wont let you add sender to cont...\n",
      "10    I love the fact it blocks scammers with should...\n",
      "11    Sometimes I want to delete all the posts in a ...\n",
      "12                                Please update the app\n",
      "13    Installed because Signal will no longer suppor...\n",
      "14    I am having an issue with this texting app Its...\n",
      "Name: Review, dtype: object\n",
      "\n",
      "After converting to lowercase:\n",
      "0     crashing on me on p not sure why it is doing t...\n",
      "1                                           easy to use\n",
      "2     i think indians cant make trully free and open...\n",
      "3     why does this app require camer accesess the t...\n",
      "4                                           i love y ou\n",
      "5     thought i would give this a try nice ui and cu...\n",
      "6     so far so good easier to use and configure tha...\n",
      "7     awesome alternative to onboard text messaging ...\n",
      "8                                    material you plans\n",
      "9     worst app ever wont let you add sender to cont...\n",
      "10    i love the fact it blocks scammers with should...\n",
      "11    sometimes i want to delete all the posts in a ...\n",
      "12                                please update the app\n",
      "13    installed because signal will no longer suppor...\n",
      "14    i am having an issue with this texting app its...\n",
      "Name: Review, dtype: object\n",
      "\n",
      "After removing stopwords:\n",
      "                                               Review\n",
      "0           crashing p sure sudden didnt make changes\n",
      "1                                            easy use\n",
      "2   think indians cant make trully free opensource...\n",
      "3   app require camer accesess type forcfuly avoid...\n",
      "4                                             love ou\n",
      "5   thought would give try nice ui customization n...\n",
      "6     far good easier use configure native app mobile\n",
      "7     awesome alternative onboard text messaging apps\n",
      "8                                      material plans\n",
      "9   worst app ever wont let add sender contacts ba...\n",
      "10  love fact blocks scammers answer pairing one s...\n",
      "11  sometimes want delete posts long conversation ...\n",
      "12                                  please update app\n",
      "13  installed signal longer support sms qksms allo...\n",
      "14  issue texting app delivering text messages big...\n",
      "\n",
      "After Lemmatizing:\n",
      "                                               Review\n",
      "0            crashing p sure sudden didnt make change\n",
      "1                                            easy use\n",
      "2   think indian cant make trully free opensource ...\n",
      "3   app require camer accesess type forcfuly avoid...\n",
      "4                                             love ou\n",
      "5   thought would give try nice ui customization n...\n",
      "6     far good easier use configure native app mobile\n",
      "7     awesome alternative onboard text messaging apps\n",
      "8                                       material plan\n",
      "9   worst app ever wont let add sender contact bas...\n",
      "10  love fact block scammer answer pairing one sta...\n",
      "11  sometimes want delete post long conversation e...\n",
      "12                                  please update app\n",
      "13  installed signal longer support sm qksms allow...\n",
      "14  issue texting app delivering text message big ...\n"
     ]
    }
   ],
   "source": [
    "print(\"After removing punctuations:\")\n",
    "reviewcolumn = punctuations(reviewcolumn)\n",
    "print(reviewcolumn.head(15))\n",
    "print(\"\")\n",
    "print(\"After removing special characters and emojies:\")\n",
    "reviewcolumn = characterandemoji(reviewcolumn)\n",
    "print(reviewcolumn.head(15))\n",
    "print(\"\")\n",
    "print(\"After converting number to text:\")\n",
    "reviewcolumn = numbertowords(reviewcolumn)\n",
    "print(reviewcolumn.head(15))\n",
    "print(\"\")\n",
    "print(\"After removing extra white spaces:\")\n",
    "reviewcolumn = extraspace(reviewcolumn)\n",
    "print(reviewcolumn.head(15))\n",
    "print(\"\")\n",
    "print(\"After converting to lowercase:\")\n",
    "reviewcolumn = lowercase(reviewcolumn)\n",
    "print(reviewcolumn.head(15))\n",
    "print(\"\")\n",
    "print(\"After removing stopwords:\")\n",
    "reviewcolumn = removestop(reviewcolumn)\n",
    "print(reviewcolumn.head(15))\n",
    "print(\"\")\n",
    "print(\"After Lemmatizing:\")\n",
    "lemmatizedreviews = lemmatize(reviewcolumn)\n",
    "reviewcolumn['Review'] = lemmatizedreviews\n",
    "print(reviewcolumn.head(15))"
   ]
  },
  {
   "cell_type": "code",
   "execution_count": 20,
   "id": "c7af223d",
   "metadata": {},
   "outputs": [
    {
     "name": "stdout",
     "output_type": "stream",
     "text": [
      "After Pre-processing:\n",
      "                                               Review\n",
      "0            crashing p sure sudden didnt make change\n",
      "1                                            easy use\n",
      "2   think indian cant make trully free opensource ...\n",
      "3   app require camer accesess type forcfuly avoid...\n",
      "4                                             love ou\n",
      "5   thought would give try nice ui customization n...\n",
      "6     far good easier use configure native app mobile\n",
      "7     awesome alternative onboard text messaging apps\n",
      "8                                       material plan\n",
      "9   worst app ever wont let add sender contact bas...\n",
      "10  love fact block scammer answer pairing one sta...\n",
      "11  sometimes want delete post long conversation e...\n",
      "12                                  please update app\n",
      "13  installed signal longer support sm qksms allow...\n",
      "14  issue texting app delivering text message big ...\n"
     ]
    }
   ],
   "source": [
    "print(\"After Pre-processing:\")\n",
    "print(reviewcolumn.head(15))"
   ]
  },
  {
   "cell_type": "markdown",
   "id": "b7b99775",
   "metadata": {},
   "source": [
    "TASK 3: SENTIMENT ANALYSIS"
   ]
  },
  {
   "cell_type": "code",
   "execution_count": 21,
   "id": "2aed58e2",
   "metadata": {},
   "outputs": [
    {
     "name": "stdout",
     "output_type": "stream",
     "text": [
      "The Polarity table from Textblob:\n",
      "    App's package name                                             Review  \\\n",
      "0       com.moez.QKSMS           crashing p sure sudden didnt make change   \n",
      "1       com.moez.QKSMS                                           easy use   \n",
      "2       com.moez.QKSMS  think indian cant make trully free opensource ...   \n",
      "3       com.moez.QKSMS  app require camer accesess type forcfuly avoid...   \n",
      "4       com.moez.QKSMS                                            love ou   \n",
      "..                 ...                                                ...   \n",
      "995     com.moez.QKSMS  texting app use one free version good enough l...   \n",
      "996     com.moez.QKSMS                                  unable send video   \n",
      "997     com.moez.QKSMS                                nice excellent apps   \n",
      "998     com.moez.QKSMS  getting message contact luckily run messaging ...   \n",
      "999     com.moez.QKSMS  alright dont like used enable call control app...   \n",
      "\n",
      "     Polarity  \n",
      "0    0.250000  \n",
      "1    0.433333  \n",
      "2   -0.075000  \n",
      "3    0.000000  \n",
      "4    0.500000  \n",
      "..        ...  \n",
      "995  0.405000  \n",
      "996 -0.500000  \n",
      "997  0.800000  \n",
      "998  0.333333  \n",
      "999  0.000000  \n",
      "\n",
      "[1000 rows x 3 columns]\n",
      "\n",
      "The Polarity table from Vader:\n",
      "    App's package name                                             Review  \\\n",
      "0       com.moez.QKSMS           crashing p sure sudden didnt make change   \n",
      "1       com.moez.QKSMS                                           easy use   \n",
      "2       com.moez.QKSMS  think indian cant make trully free opensource ...   \n",
      "3       com.moez.QKSMS  app require camer accesess type forcfuly avoid...   \n",
      "4       com.moez.QKSMS                                            love ou   \n",
      "..                 ...                                                ...   \n",
      "995     com.moez.QKSMS  texting app use one free version good enough l...   \n",
      "996     com.moez.QKSMS                                  unable send video   \n",
      "997     com.moez.QKSMS                                nice excellent apps   \n",
      "998     com.moez.QKSMS  getting message contact luckily run messaging ...   \n",
      "999     com.moez.QKSMS  alright dont like used enable call control app...   \n",
      "\n",
      "     Polarity  \n",
      "0      0.3182  \n",
      "1      0.4404  \n",
      "2     -0.5864  \n",
      "3      0.2263  \n",
      "4      0.6369  \n",
      "..        ...  \n",
      "995    0.9643  \n",
      "996    0.0000  \n",
      "997    0.7579  \n",
      "998    0.5106  \n",
      "999   -0.3421  \n",
      "\n",
      "[1000 rows x 3 columns]\n"
     ]
    }
   ],
   "source": [
    "# Polarity tables for QKSMS\n",
    "print(\"The Polarity table from Textblob:\")\n",
    "print(textblobpolarity(reviewcolumn))\n",
    "print(\"\")\n",
    "print(\"The Polarity table from Vader:\")\n",
    "print(vaderpolarity(reviewcolumn))"
   ]
  },
  {
   "cell_type": "markdown",
   "id": "fba91541",
   "metadata": {},
   "source": [
    "V. Comparison between the polarity tables\n",
    "Analyzing the polarity tables from Textblob and Vader, it can be seen that the scores calculated by both the libraries are mostly similar. \n",
    "The similarities and differences can be observed from the differences between the numbers of the corresponding reviews. \n",
    "Similarity:\n",
    "For example: review 1 has polarity 0.4333 by Textblob and 0.4404 by Vader which is almost similar, review 4 has polarity 0.5000 by Textblob and 0.6369 by Vader which is almost similar. \n",
    "Difference:\n",
    "There are slight variations which can be observed, as in the case of review 999 where Textblob has calcuated a polarity of 0, that is neutral while Vader calculated it as -0.3421. The differences are due to the way these 2 libraries calculate the sentiment of the reviews. \n",
    "Therefore, the overall comparison between the 2 libraries depends on the review being analyzed. Vader handles individual words and expressions and also takes into consideration emojies, punctuations and capitalization but as all of these have already been removed during the preprocessing, so, it is not really beneficial in our context. In our case, Textblob might be a better option because it calculates the overall sentiment of the sentence. "
   ]
  },
  {
   "cell_type": "markdown",
   "id": "d1ff6328",
   "metadata": {},
   "source": [
    "Similar app 1: Textra SMS"
   ]
  },
  {
   "cell_type": "code",
   "execution_count": 22,
   "id": "c8e867ca",
   "metadata": {},
   "outputs": [
    {
     "name": "stdout",
     "output_type": "stream",
     "text": [
      "Before pre-processing: \n",
      "0     Forcing you to use the app as your default lit...\n",
      "1     I would love the ability to restrict searches ...\n",
      "2     I wanted to send group texts and have the repl...\n",
      "3     I've been using this app for as long as I've h...\n",
      "4     So far, so good! I had been using the pre-inst...\n",
      "5                                           Works Great\n",
      "6     This is easy to use, clear and well-engineered...\n",
      "7     I love this app but recently upgraded my phone...\n",
      "8     Great features but the one I want doesn't work...\n",
      "9     I've used Textra for a long time. Let me tell ...\n",
      "10    It has a fundamental flaw which the developers...\n",
      "11    So far I like it but the whole reason I got th...\n",
      "12    I had heard good things about Textra, but the ...\n",
      "13    1 tiny ad a few times a week at the top. Don't...\n",
      "14                               Very useful and stable\n",
      "Name: Review, dtype: object\n"
     ]
    }
   ],
   "source": [
    "reviews = pd.read_csv('com.textra.csv')\n",
    "reviewcolumn = reviews['Review']\n",
    "# Print first 15 rows of review column before pre-processing\n",
    "print(\"Before pre-processing: \")\n",
    "print(reviewcolumn.head(15))"
   ]
  },
  {
   "cell_type": "code",
   "execution_count": 23,
   "id": "5b0ff12e",
   "metadata": {},
   "outputs": [
    {
     "name": "stdout",
     "output_type": "stream",
     "text": [
      "After removing punctuations:\n",
      "0     Forcing you to use the app as your default lit...\n",
      "1     I would love the ability to restrict searches ...\n",
      "2     I wanted to send group texts and have the repl...\n",
      "3     Ive been using this app for as long as Ive had...\n",
      "4     So far so good I had been using the preinstall...\n",
      "5                                           Works Great\n",
      "6     This is easy to use clear and wellengineered J...\n",
      "7     I love this app but recently upgraded my phone...\n",
      "8     Great features but the one I want doesnt work ...\n",
      "9     Ive used Textra for a long time Let me tell yo...\n",
      "10    It has a fundamental flaw which the developers...\n",
      "11    So far I like it but the whole reason I got th...\n",
      "12    I had heard good things about Textra but the a...\n",
      "13    1 tiny ad a few times a week at the top Dont e...\n",
      "14                               Very useful and stable\n",
      "Name: Review, dtype: object\n",
      "\n",
      "After removing special characters and emojies:\n",
      "0     Forcing you to use the app as your default lit...\n",
      "1     I would love the ability to restrict searches ...\n",
      "2     I wanted to send group texts and have the repl...\n",
      "3     Ive been using this app for as long as Ive had...\n",
      "4     So far so good I had been using the preinstall...\n",
      "5                                           Works Great\n",
      "6     This is easy to use clear and wellengineered J...\n",
      "7     I love this app but recently upgraded my phone...\n",
      "8     Great features but the one I want doesnt work ...\n",
      "9     Ive used Textra for a long time Let me tell yo...\n",
      "10    It has a fundamental flaw which the developers...\n",
      "11    So far I like it but the whole reason I got th...\n",
      "12    I had heard good things about Textra but the a...\n",
      "13    1 tiny ad a few times a week at the top Dont e...\n",
      "14                               Very useful and stable\n",
      "Name: Review, dtype: object\n",
      "\n",
      "After converting number to text:\n",
      "0     Forcing you to use the app as your default lit...\n",
      "1     I would love the ability to restrict searches ...\n",
      "2     I wanted to send group texts and have the repl...\n",
      "3     Ive been using this app for as long as Ive had...\n",
      "4     So far so good I had been using the preinstall...\n",
      "5                                           Works Great\n",
      "6     This is easy to use clear and wellengineered J...\n",
      "7     I love this app but recently upgraded my phone...\n",
      "8     Great features but the one I want doesnt work ...\n",
      "9     Ive used Textra for a long time Let me tell yo...\n",
      "10    It has a fundamental flaw which the developers...\n",
      "11    So far I like it but the whole reason I got th...\n",
      "12    I had heard good things about Textra but the a...\n",
      "13    one tiny ad a few times a week at the top Dont...\n",
      "14                               Very useful and stable\n",
      "Name: Review, dtype: object\n",
      "\n",
      "After removing extra white spaces:\n",
      "0     Forcing you to use the app as your default lit...\n",
      "1     I would love the ability to restrict searches ...\n",
      "2     I wanted to send group texts and have the repl...\n",
      "3     Ive been using this app for as long as Ive had...\n",
      "4     So far so good I had been using the preinstall...\n",
      "5                                           Works Great\n",
      "6     This is easy to use clear and wellengineered J...\n",
      "7     I love this app but recently upgraded my phone...\n",
      "8     Great features but the one I want doesnt work ...\n",
      "9     Ive used Textra for a long time Let me tell yo...\n",
      "10    It has a fundamental flaw which the developers...\n",
      "11    So far I like it but the whole reason I got th...\n",
      "12    I had heard good things about Textra but the a...\n",
      "13    one tiny ad a few times a week at the top Dont...\n",
      "14                               Very useful and stable\n",
      "Name: Review, dtype: object\n",
      "\n",
      "After converting to lowercase:\n",
      "0     forcing you to use the app as your default lit...\n",
      "1     i would love the ability to restrict searches ...\n",
      "2     i wanted to send group texts and have the repl...\n",
      "3     ive been using this app for as long as ive had...\n",
      "4     so far so good i had been using the preinstall...\n",
      "5                                           works great\n",
      "6     this is easy to use clear and wellengineered j...\n",
      "7     i love this app but recently upgraded my phone...\n",
      "8     great features but the one i want doesnt work ...\n",
      "9     ive used textra for a long time let me tell yo...\n",
      "10    it has a fundamental flaw which the developers...\n",
      "11    so far i like it but the whole reason i got th...\n",
      "12    i had heard good things about textra but the a...\n",
      "13    one tiny ad a few times a week at the top dont...\n",
      "14                               very useful and stable\n",
      "Name: Review, dtype: object\n",
      "\n",
      "After removing stopwords:\n",
      "                                               Review\n",
      "0   forcing use app default literally defeats purp...\n",
      "1   would love ability restrict searches thread ad...\n",
      "2   wanted send group texts replies come app able ...\n",
      "3   ive using app long ive dmart phone way makes m...\n",
      "4   far good using preinstalled google messenger y...\n",
      "5                                         works great\n",
      "6   easy use clear wellengineered simple efficient...\n",
      "7   love app recently upgraded phone seems acting ...\n",
      "8   great features one want doesnt work regularly ...\n",
      "9   ive used textra long time let tell theres noth...\n",
      "10  fundamental flaw developers seem bothered fixi...\n",
      "11  far like whole reason got app bc seen video sa...\n",
      "12  heard good things textra amount texts never re...\n",
      "13  one tiny ad times week top dont even notice tw...\n",
      "14                                      useful stable\n",
      "\n",
      "After Lemmatizing:\n",
      "                                               Review\n",
      "0   forcing use app default literally defeat purpo...\n",
      "1   would love ability restrict search thread addr...\n",
      "2   wanted send group text reply come app able col...\n",
      "3   ive using app long ive dmart phone way make me...\n",
      "4   far good using preinstalled google messenger y...\n",
      "5                                          work great\n",
      "6   easy use clear wellengineered simple efficient...\n",
      "7   love app recently upgraded phone seems acting ...\n",
      "8   great feature one want doesnt work regularly b...\n",
      "9   ive used textra long time let tell there nothi...\n",
      "10  fundamental flaw developer seem bothered fixin...\n",
      "11  far like whole reason got app bc seen video sa...\n",
      "12  heard good thing textra amount text never rece...\n",
      "13  one tiny ad time week top dont even notice twe...\n",
      "14                                      useful stable\n"
     ]
    }
   ],
   "source": [
    "print(\"After removing punctuations:\")\n",
    "reviewcolumn = punctuations(reviewcolumn)\n",
    "print(reviewcolumn.head(15))\n",
    "print(\"\")\n",
    "print(\"After removing special characters and emojies:\")\n",
    "reviewcolumn = characterandemoji(reviewcolumn)\n",
    "print(reviewcolumn.head(15))\n",
    "print(\"\")\n",
    "print(\"After converting number to text:\")\n",
    "reviewcolumn = numbertowords(reviewcolumn)\n",
    "print(reviewcolumn.head(15))\n",
    "print(\"\")\n",
    "print(\"After removing extra white spaces:\")\n",
    "reviewcolumn = extraspace(reviewcolumn)\n",
    "print(reviewcolumn.head(15))\n",
    "print(\"\")\n",
    "print(\"After converting to lowercase:\")\n",
    "reviewcolumn = lowercase(reviewcolumn)\n",
    "print(reviewcolumn.head(15))\n",
    "print(\"\")\n",
    "print(\"After removing stopwords:\")\n",
    "reviewcolumn = removestop(reviewcolumn)\n",
    "print(reviewcolumn.head(15))\n",
    "print(\"\")\n",
    "print(\"After Lemmatizing:\")\n",
    "lemmatizedreviews = lemmatize(reviewcolumn)\n",
    "reviewcolumn['Review'] = lemmatizedreviews\n",
    "print(reviewcolumn.head(15))"
   ]
  },
  {
   "cell_type": "code",
   "execution_count": 24,
   "id": "14b0fdbc",
   "metadata": {},
   "outputs": [
    {
     "name": "stdout",
     "output_type": "stream",
     "text": [
      "After Pre-processing:\n",
      "                                               Review\n",
      "0   forcing use app default literally defeat purpo...\n",
      "1   would love ability restrict search thread addr...\n",
      "2   wanted send group text reply come app able col...\n",
      "3   ive using app long ive dmart phone way make me...\n",
      "4   far good using preinstalled google messenger y...\n",
      "5                                          work great\n",
      "6   easy use clear wellengineered simple efficient...\n",
      "7   love app recently upgraded phone seems acting ...\n",
      "8   great feature one want doesnt work regularly b...\n",
      "9   ive used textra long time let tell there nothi...\n",
      "10  fundamental flaw developer seem bothered fixin...\n",
      "11  far like whole reason got app bc seen video sa...\n",
      "12  heard good thing textra amount text never rece...\n",
      "13  one tiny ad time week top dont even notice twe...\n",
      "14                                      useful stable\n"
     ]
    }
   ],
   "source": [
    "print(\"After Pre-processing:\")\n",
    "print(reviewcolumn.head(15))"
   ]
  },
  {
   "cell_type": "code",
   "execution_count": 25,
   "id": "b42896f1",
   "metadata": {},
   "outputs": [
    {
     "name": "stdout",
     "output_type": "stream",
     "text": [
      "The Polarity table from Textblob:\n",
      "    App's package name                                             Review  \\\n",
      "0           com.textra  forcing use app default literally defeat purpo...   \n",
      "1           com.textra  would love ability restrict search thread addr...   \n",
      "2           com.textra  wanted send group text reply come app able col...   \n",
      "3           com.textra  ive using app long ive dmart phone way make me...   \n",
      "4           com.textra  far good using preinstalled google messenger y...   \n",
      "..                 ...                                                ...   \n",
      "995         com.textra  always come back app great able react message ...   \n",
      "996         com.textra  textra simple use easier delete unwanted text ...   \n",
      "997         com.textra                            preferred messaging app   \n",
      "998         com.textra  great app better stock sm one issue run cant s...   \n",
      "999         com.textra  app good wouldnt give five star doesnt receive...   \n",
      "\n",
      "     Polarity  \n",
      "0   -0.166667  \n",
      "1    0.500000  \n",
      "2    0.550000  \n",
      "3    0.410000  \n",
      "4    0.266667  \n",
      "..        ...  \n",
      "995  0.342857  \n",
      "996  0.166667  \n",
      "997  0.000000  \n",
      "998  0.650000  \n",
      "999  0.700000  \n",
      "\n",
      "[1000 rows x 3 columns]\n",
      "\n",
      "The Polarity table from Vader:\n",
      "    App's package name                                             Review  \\\n",
      "0           com.textra  forcing use app default literally defeat purpo...   \n",
      "1           com.textra  would love ability restrict search thread addr...   \n",
      "2           com.textra  wanted send group text reply come app able col...   \n",
      "3           com.textra  ive using app long ive dmart phone way make me...   \n",
      "4           com.textra  far good using preinstalled google messenger y...   \n",
      "..                 ...                                                ...   \n",
      "995         com.textra  always come back app great able react message ...   \n",
      "996         com.textra  textra simple use easier delete unwanted text ...   \n",
      "997         com.textra                            preferred messaging app   \n",
      "998         com.textra  great app better stock sm one issue run cant s...   \n",
      "999         com.textra  app good wouldnt give five star doesnt receive...   \n",
      "\n",
      "     Polarity  \n",
      "0     -0.6369  \n",
      "1      0.4939  \n",
      "2      0.4215  \n",
      "3      0.9419  \n",
      "4      0.8112  \n",
      "..        ...  \n",
      "995    0.8860  \n",
      "996   -0.2500  \n",
      "997    0.0000  \n",
      "998    0.7279  \n",
      "999    0.5994  \n",
      "\n",
      "[1000 rows x 3 columns]\n"
     ]
    }
   ],
   "source": [
    "# Polarity tables for Textra\n",
    "print(\"The Polarity table from Textblob:\")\n",
    "print(textblobpolarity(reviewcolumn))\n",
    "print(\"\")\n",
    "print(\"The Polarity table from Vader:\")\n",
    "print(vaderpolarity(reviewcolumn))"
   ]
  },
  {
   "cell_type": "markdown",
   "id": "28701bd7",
   "metadata": {},
   "source": [
    "V. Comparison between the polarity tables \n",
    "Analyzing the polarity tables from Textblob and Vader, it can be seen that the scores calculated by both the libraries are mostly similar. \n",
    "The similarities and differences can be observed from the differences between the numbers of the corresponding reviews. Similarity: \n",
    "For example: review 1 has polarity 0.5 by Textblob and 0.4939 by Vader which is almost similar and shows that both the reviews are positive. Review 998 has polarity 0.65 by Textblob and 0.7279 by Vader which is again similar. \n",
    "Difference: \n",
    "For example: review 0 has polarity -0.166667 by Textblob and -0.6369 by Vader which is significantly different. It can be observed that Vader is more negative than Textblob. The differences are due to the way these 2 libraries calculate the sentiment of the reviews. \n",
    "Therefore, the overall comparison between the 2 libraries depends on the review being analyzed. Vader handles individual words and expressions and also takes into consideration emojies, punctuations and capitalization but as all of these have already been removed during the preprocessing, it is not really beneficial in our context. In our case, Textblob might be a better option because it calculates the overall sentiment of the sentence."
   ]
  },
  {
   "cell_type": "markdown",
   "id": "d9c02d70",
   "metadata": {},
   "source": [
    "Similar app 2: Pulse SMS"
   ]
  },
  {
   "cell_type": "code",
   "execution_count": 26,
   "id": "1df34590",
   "metadata": {},
   "outputs": [
    {
     "name": "stdout",
     "output_type": "stream",
     "text": [
      "Before pre-processing: \n",
      "0                                          It is better\n",
      "1     Since new update, app doesn't show new message...\n",
      "2     Everything was great for the past 3 years with...\n",
      "3     I have been using this app for a few years and...\n",
      "4     Used to be great, but has gone downhill recent...\n",
      "5     love the pulse music app! very customizable. l...\n",
      "6     Been using it for awhile with no issues, excep...\n",
      "7     I tried this app out and canceled the same day...\n",
      "8                                            Mulchandsk\n",
      "9     I have had for years, and used to work fine un...\n",
      "10    Buggy after the last update. New texts are not...\n",
      "11    No app for wear os so can't get messages on ga...\n",
      "12    This used to be awesome, but then they put the...\n",
      "13                         Can't sync phone and tablet,\n",
      "14                                                 nice\n",
      "Name: Review, dtype: object\n"
     ]
    }
   ],
   "source": [
    "reviews = pd.read_csv('xyz.klinker.messenger.csv')\n",
    "reviewcolumn = reviews['Review']\n",
    "# Print first 15 rows of review column before pre-processing\n",
    "print(\"Before pre-processing: \")\n",
    "print(reviewcolumn.head(15))"
   ]
  },
  {
   "cell_type": "code",
   "execution_count": 27,
   "id": "62f17185",
   "metadata": {},
   "outputs": [
    {
     "name": "stdout",
     "output_type": "stream",
     "text": [
      "After removing punctuations:\n",
      "0                                          It is better\n",
      "1     Since new update app doesnt show new messages ...\n",
      "2     Everything was great for the past 3 years with...\n",
      "3     I have been using this app for a few years and...\n",
      "4     Used to be great but has gone downhill recentl...\n",
      "5     love the pulse music app very customizable lov...\n",
      "6     Been using it for awhile with no issues except...\n",
      "7     I tried this app out and canceled the same day...\n",
      "8                                            Mulchandsk\n",
      "9     I have had for years and used to work fine unt...\n",
      "10    Buggy after the last update New texts are not ...\n",
      "11    No app for wear os so cant get messages on gal...\n",
      "12    This used to be awesome but then they put the ...\n",
      "13                           Cant sync phone and tablet\n",
      "14                                                 nice\n",
      "Name: Review, dtype: object\n",
      "\n",
      "After removing special characters and emojies:\n",
      "0                                          It is better\n",
      "1     Since new update app doesnt show new messages ...\n",
      "2     Everything was great for the past 3 years with...\n",
      "3     I have been using this app for a few years and...\n",
      "4     Used to be great but has gone downhill recentl...\n",
      "5     love the pulse music app very customizable lov...\n",
      "6     Been using it for awhile with no issues except...\n",
      "7     I tried this app out and canceled the same day...\n",
      "8                                            Mulchandsk\n",
      "9     I have had for years and used to work fine unt...\n",
      "10    Buggy after the last update New texts are not ...\n",
      "11    No app for wear os so cant get messages on gal...\n",
      "12    This used to be awesome but then they put the ...\n",
      "13                           Cant sync phone and tablet\n",
      "14                                                 nice\n",
      "Name: Review, dtype: object\n",
      "\n",
      "After converting number to text:\n",
      "0                                          It is better\n",
      "1     Since new update app doesnt show new messages ...\n",
      "2     Everything was great for the past three years ...\n",
      "3     I have been using this app for a few years and...\n",
      "4     Used to be great but has gone downhill recentl...\n",
      "5     love the pulse music app very customizable lov...\n",
      "6     Been using it for awhile with no issues except...\n",
      "7     I tried this app out and canceled the same day...\n",
      "8                                            Mulchandsk\n",
      "9     I have had for years and used to work fine unt...\n",
      "10    Buggy after the last update New texts are not ...\n",
      "11    No app for wear os so cant get messages on gal...\n",
      "12    This used to be awesome but then they put the ...\n",
      "13                           Cant sync phone and tablet\n",
      "14                                                 nice\n",
      "Name: Review, dtype: object\n",
      "\n",
      "After removing extra white spaces:\n",
      "0                                          It is better\n",
      "1     Since new update app doesnt show new messages ...\n",
      "2     Everything was great for the past three years ...\n",
      "3     I have been using this app for a few years and...\n",
      "4     Used to be great but has gone downhill recentl...\n",
      "5     love the pulse music app very customizable lov...\n",
      "6     Been using it for awhile with no issues except...\n",
      "7     I tried this app out and canceled the same day...\n",
      "8                                            Mulchandsk\n",
      "9     I have had for years and used to work fine unt...\n",
      "10    Buggy after the last update New texts are not ...\n",
      "11    No app for wear os so cant get messages on gal...\n",
      "12    This used to be awesome but then they put the ...\n",
      "13                           Cant sync phone and tablet\n",
      "14                                                 nice\n",
      "Name: Review, dtype: object\n",
      "\n",
      "After converting to lowercase:\n",
      "0                                          it is better\n",
      "1     since new update app doesnt show new messages ...\n",
      "2     everything was great for the past three years ...\n",
      "3     i have been using this app for a few years and...\n",
      "4     used to be great but has gone downhill recentl...\n",
      "5     love the pulse music app very customizable lov...\n",
      "6     been using it for awhile with no issues except...\n",
      "7     i tried this app out and canceled the same day...\n",
      "8                                            mulchandsk\n",
      "9     i have had for years and used to work fine unt...\n",
      "10    buggy after the last update new texts are not ...\n",
      "11    no app for wear os so cant get messages on gal...\n",
      "12    this used to be awesome but then they put the ...\n",
      "13                           cant sync phone and tablet\n",
      "14                                                 nice\n",
      "Name: Review, dtype: object\n",
      "\n",
      "After removing stopwords:\n",
      "                                               Review\n",
      "0                                              better\n",
      "1   since new update app doesnt show new messages ...\n",
      "2   everything great past three years pulse curren...\n",
      "3   using app years last days messages longer prop...\n",
      "4   used great gone downhill recently recent updat...\n",
      "5   love pulse music app customizable love shuffle...\n",
      "6   using awhile issues except seems like new mess...\n",
      "7   tried app canceled day said would charge charg...\n",
      "8                                          mulchandsk\n",
      "9   years used work fine recent update sending new...\n",
      "10  buggy last update new texts highlighted brough...\n",
      "11         app wear os cant get messages galaxy watch\n",
      "12  used awesome put scheduled messages behind pay...\n",
      "13                             cant sync phone tablet\n",
      "14                                               nice\n",
      "\n",
      "After Lemmatizing:\n",
      "                                               Review\n",
      "0                                              better\n",
      "1   since new update app doesnt show new message o...\n",
      "2   everything great past three year pulse current...\n",
      "3   using app year last day message longer properl...\n",
      "4   used great gone downhill recently recent updat...\n",
      "5   love pulse music app customizable love shuffle...\n",
      "6   using awhile issue except seems like new messa...\n",
      "7   tried app canceled day said would charge charg...\n",
      "8                                          mulchandsk\n",
      "9   year used work fine recent update sending new ...\n",
      "10  buggy last update new text highlighted brought...\n",
      "11           app wear o cant get message galaxy watch\n",
      "12  used awesome put scheduled message behind pay ...\n",
      "13                             cant sync phone tablet\n",
      "14                                               nice\n"
     ]
    }
   ],
   "source": [
    "print(\"After removing punctuations:\")\n",
    "reviewcolumn = punctuations(reviewcolumn)\n",
    "print(reviewcolumn.head(15))\n",
    "print(\"\")\n",
    "print(\"After removing special characters and emojies:\")\n",
    "reviewcolumn = characterandemoji(reviewcolumn)\n",
    "print(reviewcolumn.head(15))\n",
    "print(\"\")\n",
    "print(\"After converting number to text:\")\n",
    "reviewcolumn = numbertowords(reviewcolumn)\n",
    "print(reviewcolumn.head(15))\n",
    "print(\"\")\n",
    "print(\"After removing extra white spaces:\")\n",
    "reviewcolumn = extraspace(reviewcolumn)\n",
    "print(reviewcolumn.head(15))\n",
    "print(\"\")\n",
    "print(\"After converting to lowercase:\")\n",
    "reviewcolumn = lowercase(reviewcolumn)\n",
    "print(reviewcolumn.head(15))\n",
    "print(\"\")\n",
    "print(\"After removing stopwords:\")\n",
    "reviewcolumn = removestop(reviewcolumn)\n",
    "print(reviewcolumn.head(15))\n",
    "print(\"\")\n",
    "print(\"After Lemmatizing:\")\n",
    "lemmatizedreviews = lemmatize(reviewcolumn)\n",
    "reviewcolumn['Review'] = lemmatizedreviews\n",
    "print(reviewcolumn.head(15))"
   ]
  },
  {
   "cell_type": "code",
   "execution_count": 28,
   "id": "4847aaf7",
   "metadata": {},
   "outputs": [
    {
     "name": "stdout",
     "output_type": "stream",
     "text": [
      "After Pre-processing:\n",
      "                                               Review\n",
      "0                                              better\n",
      "1   since new update app doesnt show new message o...\n",
      "2   everything great past three year pulse current...\n",
      "3   using app year last day message longer properl...\n",
      "4   used great gone downhill recently recent updat...\n",
      "5   love pulse music app customizable love shuffle...\n",
      "6   using awhile issue except seems like new messa...\n",
      "7   tried app canceled day said would charge charg...\n",
      "8                                          mulchandsk\n",
      "9   year used work fine recent update sending new ...\n",
      "10  buggy last update new text highlighted brought...\n",
      "11           app wear o cant get message galaxy watch\n",
      "12  used awesome put scheduled message behind pay ...\n",
      "13                             cant sync phone tablet\n",
      "14                                               nice\n"
     ]
    }
   ],
   "source": [
    "print(\"After Pre-processing:\")\n",
    "print(reviewcolumn.head(15))"
   ]
  },
  {
   "cell_type": "code",
   "execution_count": 29,
   "id": "be107d23",
   "metadata": {},
   "outputs": [
    {
     "name": "stdout",
     "output_type": "stream",
     "text": [
      "The Polarity table from Textblob:\n",
      "        App's package name                                             Review  \\\n",
      "0    xyz.klinker.messenger                                             better   \n",
      "1    xyz.klinker.messenger  since new update app doesnt show new message o...   \n",
      "2    xyz.klinker.messenger  everything great past three year pulse current...   \n",
      "3    xyz.klinker.messenger  using app year last day message longer properl...   \n",
      "4    xyz.klinker.messenger  used great gone downhill recently recent updat...   \n",
      "..                     ...                                                ...   \n",
      "995  xyz.klinker.messenger                                               nice   \n",
      "996  xyz.klinker.messenger  somewhat convoluted trying install another and...   \n",
      "997  xyz.klinker.messenger         great far give five star maybe used option   \n",
      "998  xyz.klinker.messenger  unistalling app continues make life difficult ...   \n",
      "999  xyz.klinker.messenger  move new phone get anyone help guess add paid ...   \n",
      "\n",
      "     Polarity  \n",
      "0    0.500000  \n",
      "1    0.174242  \n",
      "2    0.183333  \n",
      "3    0.000000  \n",
      "4    0.433333  \n",
      "..        ...  \n",
      "995  0.600000  \n",
      "996  0.000000  \n",
      "997  0.450000  \n",
      "998 -0.166667  \n",
      "999 -0.265152  \n",
      "\n",
      "[1000 rows x 3 columns]\n",
      "\n",
      "The Polarity table from Vader:\n",
      "        App's package name                                             Review  \\\n",
      "0    xyz.klinker.messenger                                             better   \n",
      "1    xyz.klinker.messenger  since new update app doesnt show new message o...   \n",
      "2    xyz.klinker.messenger  everything great past three year pulse current...   \n",
      "3    xyz.klinker.messenger  using app year last day message longer properl...   \n",
      "4    xyz.klinker.messenger  used great gone downhill recently recent updat...   \n",
      "..                     ...                                                ...   \n",
      "995  xyz.klinker.messenger                                               nice   \n",
      "996  xyz.klinker.messenger  somewhat convoluted trying install another and...   \n",
      "997  xyz.klinker.messenger         great far give five star maybe used option   \n",
      "998  xyz.klinker.messenger  unistalling app continues make life difficult ...   \n",
      "999  xyz.klinker.messenger  move new phone get anyone help guess add paid ...   \n",
      "\n",
      "     Polarity  \n",
      "0      0.4404  \n",
      "1      0.2023  \n",
      "2      0.6249  \n",
      "3      0.3182  \n",
      "4      0.4767  \n",
      "..        ...  \n",
      "995    0.4215  \n",
      "996    0.0000  \n",
      "997    0.6249  \n",
      "998    0.0258  \n",
      "999    0.8020  \n",
      "\n",
      "[1000 rows x 3 columns]\n"
     ]
    }
   ],
   "source": [
    "# Polarity tables for Pulse SMS\n",
    "print(\"The Polarity table from Textblob:\")\n",
    "print(textblobpolarity(reviewcolumn))\n",
    "print(\"\")\n",
    "print(\"The Polarity table from Vader:\")\n",
    "print(vaderpolarity(reviewcolumn))"
   ]
  },
  {
   "cell_type": "markdown",
   "id": "11fa0efe",
   "metadata": {},
   "source": [
    "V. Comparison between the polarity tables \n",
    "Analyzing the polarity tables from Textblob and Vader, it can be seen that the scores calculated by both the libraries are mostly similar. \n",
    "The similarities and differences can be observed from the differences between the numbers of the corresponding reviews. Similarity: \n",
    "For example: review 0 has polarity 0.5 by Textblob and 0.4404 by Vader which is almost similar and shows that both the reviews are positive. Review 1 has polarity 0.174242 by Textblob and 0.2023 by Vader which is again similar. \n",
    "Difference: \n",
    "For example: review 998 has polarity -0.166667 by Textblob and 0.0258 by Vader which is significantly different. Textblob has given a negative polarity which indicates a negative review while Vader has given a positive review which shows a positive review about the app. The differences are due to the way these 2 libraries calculate the sentiment of the reviews. \n",
    "Therefore, the overall comparison between the 2 libraries depends on the review being analyzed. Vader handles individual words and expressions and also takes into consideration emojies, punctuations and capitalization but as all of these have already been removed during the preprocessing, so, it is not really beneficial in our case. In our case, Textblob might be a better option because it calculates the overall sentiment of the sentence."
   ]
  },
  {
   "cell_type": "markdown",
   "id": "736c49fa",
   "metadata": {},
   "source": [
    "Competitor app 1: Signal Private Messenger"
   ]
  },
  {
   "cell_type": "code",
   "execution_count": 30,
   "id": "a6c45104",
   "metadata": {},
   "outputs": [
    {
     "name": "stdout",
     "output_type": "stream",
     "text": [
      "Before pre-processing: \n",
      "0     Jolly good. Does what you want and nothing you...\n",
      "1                                              Nice app\n",
      "2                                Works really well ðŸ‘Œ\n",
      "3                 Lost 1 star for removing SMS support.\n",
      "4     You stop allowing SMS, you serve no purpose an...\n",
      "5     My son is active duty Navy, 3rd generation mil...\n",
      "6     I utilized this application for a little while...\n",
      "7     Very useful. Why do I need a phone number. See...\n",
      "8                                 Keep up the good work\n",
      "9     Every phone supports sms, I wouldn't care if i...\n",
      "10                                      Why remove SMS?\n",
      "11                                    Good happy g chat\n",
      "12                                              Perfect\n",
      "13    With the fact that you're ditching SMS text me...\n",
      "14                                         Ok very good\n",
      "Name: Review, dtype: object\n"
     ]
    }
   ],
   "source": [
    "reviews = pd.read_csv('org.thoughtcrime.securesms.csv')\n",
    "reviewcolumn = reviews['Review']\n",
    "# Print first 15 rows of review column before pre-processing\n",
    "print(\"Before pre-processing: \")\n",
    "print(reviewcolumn.head(15))"
   ]
  },
  {
   "cell_type": "code",
   "execution_count": 31,
   "id": "e13a3a58",
   "metadata": {},
   "outputs": [
    {
     "name": "stdout",
     "output_type": "stream",
     "text": [
      "After removing punctuations:\n",
      "0     Jolly good Does what you want and nothing you ...\n",
      "1                                              Nice app\n",
      "2                                Works really well ðŸ‘Œ\n",
      "3                  Lost 1 star for removing SMS support\n",
      "4     You stop allowing SMS you serve no purpose any...\n",
      "5     My son is active duty Navy 3rd generation mili...\n",
      "6     I utilized this application for a little while...\n",
      "7     Very useful Why do I need a phone number Seems...\n",
      "8                                 Keep up the good work\n",
      "9     Every phone supports sms I wouldnt care if it ...\n",
      "10                                       Why remove SMS\n",
      "11                                    Good happy g chat\n",
      "12                                              Perfect\n",
      "13    With the fact that youre ditching SMS text mes...\n",
      "14                                         Ok very good\n",
      "Name: Review, dtype: object\n",
      "\n",
      "After removing special characters and emojies:\n",
      "0     Jolly good Does what you want and nothing you ...\n",
      "1                                              Nice app\n",
      "2                                    Works really well \n",
      "3                  Lost 1 star for removing SMS support\n",
      "4     You stop allowing SMS you serve no purpose any...\n",
      "5     My son is active duty Navy 3rd generation mili...\n",
      "6     I utilized this application for a little while...\n",
      "7     Very useful Why do I need a phone number Seems...\n",
      "8                                 Keep up the good work\n",
      "9     Every phone supports sms I wouldnt care if it ...\n",
      "10                                       Why remove SMS\n",
      "11                                    Good happy g chat\n",
      "12                                              Perfect\n",
      "13    With the fact that youre ditching SMS text mes...\n",
      "14                                         Ok very good\n",
      "Name: Review, dtype: object\n",
      "\n",
      "After converting number to text:\n",
      "0     Jolly good Does what you want and nothing you ...\n",
      "1                                              Nice app\n",
      "2                                    Works really well \n",
      "3                Lost one star for removing SMS support\n",
      "4     You stop allowing SMS you serve no purpose any...\n",
      "5     My son is active duty Navy threerd generation ...\n",
      "6     I utilized this application for a little while...\n",
      "7     Very useful Why do I need a phone number Seems...\n",
      "8                                 Keep up the good work\n",
      "9     Every phone supports sms I wouldnt care if it ...\n",
      "10                                       Why remove SMS\n",
      "11                                    Good happy g chat\n",
      "12                                              Perfect\n",
      "13    With the fact that youre ditching SMS text mes...\n",
      "14                                         Ok very good\n",
      "Name: Review, dtype: object\n",
      "\n",
      "After removing extra white spaces:\n",
      "0     Jolly good Does what you want and nothing you ...\n",
      "1                                              Nice app\n",
      "2                                    Works really well \n",
      "3                Lost one star for removing SMS support\n",
      "4     You stop allowing SMS you serve no purpose any...\n",
      "5     My son is active duty Navy threerd generation ...\n",
      "6     I utilized this application for a little while...\n",
      "7     Very useful Why do I need a phone number Seems...\n",
      "8                                 Keep up the good work\n",
      "9     Every phone supports sms I wouldnt care if it ...\n",
      "10                                       Why remove SMS\n",
      "11                                    Good happy g chat\n",
      "12                                              Perfect\n",
      "13    With the fact that youre ditching SMS text mes...\n",
      "14                                         Ok very good\n",
      "Name: Review, dtype: object\n",
      "\n",
      "After converting to lowercase:\n",
      "0     jolly good does what you want and nothing you ...\n",
      "1                                              nice app\n",
      "2                                    works really well \n",
      "3                lost one star for removing sms support\n",
      "4     you stop allowing sms you serve no purpose any...\n",
      "5     my son is active duty navy threerd generation ...\n",
      "6     i utilized this application for a little while...\n",
      "7     very useful why do i need a phone number seems...\n",
      "8                                 keep up the good work\n",
      "9     every phone supports sms i wouldnt care if it ...\n",
      "10                                       why remove sms\n",
      "11                                    good happy g chat\n",
      "12                                              perfect\n",
      "13    with the fact that youre ditching sms text mes...\n",
      "14                                         ok very good\n",
      "Name: Review, dtype: object\n",
      "\n",
      "After removing stopwords:\n",
      "                                               Review\n",
      "0                   jolly good want nothing dont want\n",
      "1                                            nice app\n",
      "2                                   works really well\n",
      "3                  lost one star removing sms support\n",
      "4   stop allowing sms serve purpose anymore uninst...\n",
      "5   son active duty navy threerd generation milita...\n",
      "6   utilized application little functioned fine no...\n",
      "7   useful need phone number seems unnecessary dep...\n",
      "8                                      keep good work\n",
      "9   every phone supports sms wouldnt care paid fea...\n",
      "10                                         remove sms\n",
      "11                                  good happy g chat\n",
      "12                                            perfect\n",
      "13  fact youre ditching sms text messaging makes l...\n",
      "14                                            ok good\n",
      "\n",
      "After Lemmatizing:\n",
      "                                               Review\n",
      "0                   jolly good want nothing dont want\n",
      "1                                            nice app\n",
      "2                                    work really well\n",
      "3                   lost one star removing sm support\n",
      "4   stop allowing sm serve purpose anymore uninsta...\n",
      "5   son active duty navy threerd generation milita...\n",
      "6   utilized application little functioned fine no...\n",
      "7   useful need phone number seems unnecessary dep...\n",
      "8                                      keep good work\n",
      "9   every phone support sm wouldnt care paid featu...\n",
      "10                                          remove sm\n",
      "11                                  good happy g chat\n",
      "12                                            perfect\n",
      "13  fact youre ditching sm text messaging make lon...\n",
      "14                                            ok good\n"
     ]
    }
   ],
   "source": [
    "print(\"After removing punctuations:\")\n",
    "reviewcolumn = punctuations(reviewcolumn)\n",
    "print(reviewcolumn.head(15))\n",
    "print(\"\")\n",
    "print(\"After removing special characters and emojies:\")\n",
    "reviewcolumn = characterandemoji(reviewcolumn)\n",
    "print(reviewcolumn.head(15))\n",
    "print(\"\")\n",
    "print(\"After converting number to text:\")\n",
    "reviewcolumn = numbertowords(reviewcolumn)\n",
    "print(reviewcolumn.head(15))\n",
    "print(\"\")\n",
    "print(\"After removing extra white spaces:\")\n",
    "reviewcolumn = extraspace(reviewcolumn)\n",
    "print(reviewcolumn.head(15))\n",
    "print(\"\")\n",
    "print(\"After converting to lowercase:\")\n",
    "reviewcolumn = lowercase(reviewcolumn)\n",
    "print(reviewcolumn.head(15))\n",
    "print(\"\")\n",
    "print(\"After removing stopwords:\")\n",
    "reviewcolumn = removestop(reviewcolumn)\n",
    "print(reviewcolumn.head(15))\n",
    "print(\"\")\n",
    "print(\"After Lemmatizing:\")\n",
    "lemmatizedreviews = lemmatize(reviewcolumn)\n",
    "reviewcolumn['Review'] = lemmatizedreviews\n",
    "print(reviewcolumn.head(15))"
   ]
  },
  {
   "cell_type": "code",
   "execution_count": 32,
   "id": "bf22782e",
   "metadata": {},
   "outputs": [
    {
     "name": "stdout",
     "output_type": "stream",
     "text": [
      "After Pre-processing:\n",
      "                                               Review\n",
      "0                   jolly good want nothing dont want\n",
      "1                                            nice app\n",
      "2                                    work really well\n",
      "3                   lost one star removing sm support\n",
      "4   stop allowing sm serve purpose anymore uninsta...\n",
      "5   son active duty navy threerd generation milita...\n",
      "6   utilized application little functioned fine no...\n",
      "7   useful need phone number seems unnecessary dep...\n",
      "8                                      keep good work\n",
      "9   every phone support sm wouldnt care paid featu...\n",
      "10                                          remove sm\n",
      "11                                  good happy g chat\n",
      "12                                            perfect\n",
      "13  fact youre ditching sm text messaging make lon...\n",
      "14                                            ok good\n"
     ]
    }
   ],
   "source": [
    "print(\"After Pre-processing:\")\n",
    "print(reviewcolumn.head(15))"
   ]
  },
  {
   "cell_type": "code",
   "execution_count": 33,
   "id": "05393e21",
   "metadata": {},
   "outputs": [
    {
     "name": "stdout",
     "output_type": "stream",
     "text": [
      "The Polarity table from Textblob:\n",
      "             App's package name  \\\n",
      "0    org.thoughtcrime.securesms   \n",
      "1    org.thoughtcrime.securesms   \n",
      "2    org.thoughtcrime.securesms   \n",
      "3    org.thoughtcrime.securesms   \n",
      "4    org.thoughtcrime.securesms   \n",
      "..                          ...   \n",
      "995  org.thoughtcrime.securesms   \n",
      "996  org.thoughtcrime.securesms   \n",
      "997  org.thoughtcrime.securesms   \n",
      "998  org.thoughtcrime.securesms   \n",
      "999  org.thoughtcrime.securesms   \n",
      "\n",
      "                                                Review  Polarity  \n",
      "0                    jolly good want nothing dont want      0.70  \n",
      "1                                             nice app      0.60  \n",
      "2                                     work really well      0.20  \n",
      "3                    lost one star removing sm support      0.00  \n",
      "4    stop allowing sm serve purpose anymore uninsta...      0.00  \n",
      "..                                                 ...       ...  \n",
      "995  privacy dont ever fooled using app private ins...      0.00  \n",
      "996         great messaging app cover security concern      0.80  \n",
      "997  work described far wish still sm functionality...      0.45  \n",
      "998                                              great      0.80  \n",
      "999                                                         0.00  \n",
      "\n",
      "[1000 rows x 3 columns]\n",
      "\n",
      "The Polarity table from Vader:\n",
      "             App's package name  \\\n",
      "0    org.thoughtcrime.securesms   \n",
      "1    org.thoughtcrime.securesms   \n",
      "2    org.thoughtcrime.securesms   \n",
      "3    org.thoughtcrime.securesms   \n",
      "4    org.thoughtcrime.securesms   \n",
      "..                          ...   \n",
      "995  org.thoughtcrime.securesms   \n",
      "996  org.thoughtcrime.securesms   \n",
      "997  org.thoughtcrime.securesms   \n",
      "998  org.thoughtcrime.securesms   \n",
      "999  org.thoughtcrime.securesms   \n",
      "\n",
      "                                                Review  Polarity  \n",
      "0                    jolly good want nothing dont want    0.7783  \n",
      "1                                             nice app    0.4215  \n",
      "2                                     work really well    0.3384  \n",
      "3                    lost one star removing sm support    0.1027  \n",
      "4    stop allowing sm serve purpose anymore uninsta...   -0.2960  \n",
      "..                                                 ...       ...  \n",
      "995  privacy dont ever fooled using app private ins...    0.2924  \n",
      "996         great messaging app cover security concern    0.7579  \n",
      "997  work described far wish still sm functionality...   -0.1516  \n",
      "998                                              great    0.6249  \n",
      "999                                                       0.0000  \n",
      "\n",
      "[1000 rows x 3 columns]\n"
     ]
    }
   ],
   "source": [
    "# Polarity tables for Signal private messenger\n",
    "print(\"The Polarity table from Textblob:\")\n",
    "print(textblobpolarity(reviewcolumn))\n",
    "print(\"\")\n",
    "print(\"The Polarity table from Vader:\")\n",
    "print(vaderpolarity(reviewcolumn))"
   ]
  },
  {
   "cell_type": "markdown",
   "id": "50c197cc",
   "metadata": {},
   "source": [
    "Competitor app 2: Google messages"
   ]
  },
  {
   "cell_type": "code",
   "execution_count": 34,
   "id": "49fd2a44",
   "metadata": {},
   "outputs": [
    {
     "name": "stdout",
     "output_type": "stream",
     "text": [
      "Before pre-processing: \n",
      "0                                              All good\n",
      "1                             Google is the greatest!!!\n",
      "2           It's a good, functional app. Does it's job.\n",
      "3                    I love the convient options given.\n",
      "4     Great app that allows me to edit, send, and sa...\n",
      "5                                              Good app\n",
      "6                                                  Good\n",
      "7                                    Timely application\n",
      "8                                           Amazing App\n",
      "9     It's a text message app....what praise do you ...\n",
      "10    It's quick & easy to set up & use also it does...\n",
      "11    Messages don't send or deliver. Creating commu...\n",
      "12                               Excellent service good\n",
      "13    I am not hearing any notifications from this a...\n",
      "14                                         Slow loading\n",
      "Name: Review, dtype: object\n"
     ]
    }
   ],
   "source": [
    "reviews = pd.read_csv('com.google.android.apps.messaging.csv')\n",
    "reviewcolumn = reviews['Review']\n",
    "# Print first 15 rows of review column before pre-processing\n",
    "print(\"Before pre-processing: \")\n",
    "print(reviewcolumn.head(15))"
   ]
  },
  {
   "cell_type": "code",
   "execution_count": 35,
   "id": "ae11dd0c",
   "metadata": {},
   "outputs": [
    {
     "name": "stdout",
     "output_type": "stream",
     "text": [
      "After removing punctuations:\n",
      "0                                              All good\n",
      "1                                Google is the greatest\n",
      "2                Its a good functional app Does its job\n",
      "3                     I love the convient options given\n",
      "4     Great app that allows me to edit send and save...\n",
      "5                                              Good app\n",
      "6                                                  Good\n",
      "7                                    Timely application\n",
      "8                                           Amazing App\n",
      "9         Its a text message appwhat praise do you want\n",
      "10    Its quick  easy to set up  use also it doesnt ...\n",
      "11    Messages dont send or deliver Creating communi...\n",
      "12                               Excellent service good\n",
      "13    I am not hearing any notifications from this a...\n",
      "14                                         Slow loading\n",
      "Name: Review, dtype: object\n",
      "\n",
      "After removing special characters and emojies:\n",
      "0                                              All good\n",
      "1                                Google is the greatest\n",
      "2                Its a good functional app Does its job\n",
      "3                     I love the convient options given\n",
      "4     Great app that allows me to edit send and save...\n",
      "5                                              Good app\n",
      "6                                                  Good\n",
      "7                                    Timely application\n",
      "8                                           Amazing App\n",
      "9         Its a text message appwhat praise do you want\n",
      "10    Its quick  easy to set up  use also it doesnt ...\n",
      "11    Messages dont send or deliver Creating communi...\n",
      "12                               Excellent service good\n",
      "13    I am not hearing any notifications from this a...\n",
      "14                                         Slow loading\n",
      "Name: Review, dtype: object\n",
      "\n",
      "After converting number to text:\n",
      "0                                              All good\n",
      "1                                Google is the greatest\n",
      "2                Its a good functional app Does its job\n",
      "3                     I love the convient options given\n",
      "4     Great app that allows me to edit send and save...\n",
      "5                                              Good app\n",
      "6                                                  Good\n",
      "7                                    Timely application\n",
      "8                                           Amazing App\n",
      "9         Its a text message appwhat praise do you want\n",
      "10    Its quick  easy to set up  use also it doesnt ...\n",
      "11    Messages dont send or deliver Creating communi...\n",
      "12                               Excellent service good\n",
      "13    I am not hearing any notifications from this a...\n",
      "14                                         Slow loading\n",
      "Name: Review, dtype: object\n",
      "\n",
      "After removing extra white spaces:\n",
      "0                                              All good\n",
      "1                                Google is the greatest\n",
      "2                Its a good functional app Does its job\n",
      "3                     I love the convient options given\n",
      "4     Great app that allows me to edit send and save...\n",
      "5                                              Good app\n",
      "6                                                  Good\n",
      "7                                    Timely application\n",
      "8                                           Amazing App\n",
      "9         Its a text message appwhat praise do you want\n",
      "10     Its quick easy to set up use also it doesnt buff\n",
      "11    Messages dont send or deliver Creating communi...\n",
      "12                               Excellent service good\n",
      "13    I am not hearing any notifications from this a...\n",
      "14                                         Slow loading\n",
      "Name: Review, dtype: object\n",
      "\n",
      "After converting to lowercase:\n",
      "0                                              all good\n",
      "1                                google is the greatest\n",
      "2                its a good functional app does its job\n",
      "3                     i love the convient options given\n",
      "4     great app that allows me to edit send and save...\n",
      "5                                              good app\n",
      "6                                                  good\n",
      "7                                    timely application\n",
      "8                                           amazing app\n",
      "9         its a text message appwhat praise do you want\n",
      "10     its quick easy to set up use also it doesnt buff\n",
      "11    messages dont send or deliver creating communi...\n",
      "12                               excellent service good\n",
      "13    i am not hearing any notifications from this a...\n",
      "14                                         slow loading\n",
      "Name: Review, dtype: object\n",
      "\n",
      "After removing stopwords:\n",
      "                                               Review\n",
      "0                                                good\n",
      "1                                     google greatest\n",
      "2                             good functional app job\n",
      "3                         love convient options given\n",
      "4   great app allows edit send save messages truly...\n",
      "5                                            good app\n",
      "6                                                good\n",
      "7                                  timely application\n",
      "8                                         amazing app\n",
      "9                    text message appwhat praise want\n",
      "10                quick easy set use also doesnt buff\n",
      "11  messages dont send deliver creating communicat...\n",
      "12                             excellent service good\n",
      "13  hearing notifications app im getting message e...\n",
      "14                                       slow loading\n",
      "\n",
      "After Lemmatizing:\n",
      "                                               Review\n",
      "0                                                good\n",
      "1                                     google greatest\n",
      "2                             good functional app job\n",
      "3                          love convient option given\n",
      "4   great app allows edit send save message truly ...\n",
      "5                                            good app\n",
      "6                                                good\n",
      "7                                  timely application\n",
      "8                                         amazing app\n",
      "9                    text message appwhat praise want\n",
      "10                quick easy set use also doesnt buff\n",
      "11  message dont send deliver creating communicati...\n",
      "12                             excellent service good\n",
      "13  hearing notification app im getting message ev...\n",
      "14                                       slow loading\n"
     ]
    }
   ],
   "source": [
    "print(\"After removing punctuations:\")\n",
    "reviewcolumn = punctuations(reviewcolumn)\n",
    "print(reviewcolumn.head(15))\n",
    "print(\"\")\n",
    "print(\"After removing special characters and emojies:\")\n",
    "reviewcolumn = characterandemoji(reviewcolumn)\n",
    "print(reviewcolumn.head(15))\n",
    "print(\"\")\n",
    "print(\"After converting number to text:\")\n",
    "reviewcolumn = numbertowords(reviewcolumn)\n",
    "print(reviewcolumn.head(15))\n",
    "print(\"\")\n",
    "print(\"After removing extra white spaces:\")\n",
    "reviewcolumn = extraspace(reviewcolumn)\n",
    "print(reviewcolumn.head(15))\n",
    "print(\"\")\n",
    "print(\"After converting to lowercase:\")\n",
    "reviewcolumn = lowercase(reviewcolumn)\n",
    "print(reviewcolumn.head(15))\n",
    "print(\"\")\n",
    "print(\"After removing stopwords:\")\n",
    "reviewcolumn = removestop(reviewcolumn)\n",
    "print(reviewcolumn.head(15))\n",
    "print(\"\")\n",
    "print(\"After Lemmatizing:\")\n",
    "lemmatizedreviews = lemmatize(reviewcolumn)\n",
    "reviewcolumn['Review'] = lemmatizedreviews\n",
    "print(reviewcolumn.head(15))"
   ]
  },
  {
   "cell_type": "code",
   "execution_count": 36,
   "id": "d8139a33",
   "metadata": {},
   "outputs": [
    {
     "name": "stdout",
     "output_type": "stream",
     "text": [
      "After Pre-processing:\n",
      "                                               Review\n",
      "0                                                good\n",
      "1                                     google greatest\n",
      "2                             good functional app job\n",
      "3                          love convient option given\n",
      "4   great app allows edit send save message truly ...\n",
      "5                                            good app\n",
      "6                                                good\n",
      "7                                  timely application\n",
      "8                                         amazing app\n",
      "9                    text message appwhat praise want\n",
      "10                quick easy set use also doesnt buff\n",
      "11  message dont send deliver creating communicati...\n",
      "12                             excellent service good\n",
      "13  hearing notification app im getting message ev...\n",
      "14                                       slow loading\n"
     ]
    }
   ],
   "source": [
    "print(\"After Pre-processing:\")\n",
    "print(reviewcolumn.head(15))"
   ]
  },
  {
   "cell_type": "code",
   "execution_count": 37,
   "id": "1563f1de",
   "metadata": {},
   "outputs": [
    {
     "name": "stdout",
     "output_type": "stream",
     "text": [
      "The Polarity table from Textblob:\n",
      "                    App's package name  \\\n",
      "0    com.google.android.apps.messaging   \n",
      "1    com.google.android.apps.messaging   \n",
      "2    com.google.android.apps.messaging   \n",
      "3    com.google.android.apps.messaging   \n",
      "4    com.google.android.apps.messaging   \n",
      "..                                 ...   \n",
      "995  com.google.android.apps.messaging   \n",
      "996  com.google.android.apps.messaging   \n",
      "997  com.google.android.apps.messaging   \n",
      "998  com.google.android.apps.messaging   \n",
      "999  com.google.android.apps.messaging   \n",
      "\n",
      "                                                Review  Polarity  \n",
      "0                                                 good     0.700  \n",
      "1                                      google greatest     1.000  \n",
      "2                              good functional app job     0.700  \n",
      "3                           love convient option given     0.500  \n",
      "4    great app allows edit send save message truly ...     0.775  \n",
      "..                                                 ...       ...  \n",
      "995                                           skinhead     0.000  \n",
      "996                                               good     0.700  \n",
      "997            updating message app message flickering     0.000  \n",
      "998                                   opening sm crash     0.000  \n",
      "999                                    alot bug glitch     0.000  \n",
      "\n",
      "[1000 rows x 3 columns]\n",
      "\n",
      "The Polarity table from Vader:\n",
      "                    App's package name  \\\n",
      "0    com.google.android.apps.messaging   \n",
      "1    com.google.android.apps.messaging   \n",
      "2    com.google.android.apps.messaging   \n",
      "3    com.google.android.apps.messaging   \n",
      "4    com.google.android.apps.messaging   \n",
      "..                                 ...   \n",
      "995  com.google.android.apps.messaging   \n",
      "996  com.google.android.apps.messaging   \n",
      "997  com.google.android.apps.messaging   \n",
      "998  com.google.android.apps.messaging   \n",
      "999  com.google.android.apps.messaging   \n",
      "\n",
      "                                                Review  Polarity  \n",
      "0                                                 good    0.4404  \n",
      "1                                      google greatest    0.6369  \n",
      "2                              good functional app job    0.4404  \n",
      "3                           love convient option given    0.6369  \n",
      "4    great app allows edit send save message truly ...    0.9493  \n",
      "..                                                 ...       ...  \n",
      "995                                           skinhead    0.0000  \n",
      "996                                               good    0.4404  \n",
      "997            updating message app message flickering    0.0000  \n",
      "998                                   opening sm crash   -0.4019  \n",
      "999                                    alot bug glitch    0.0000  \n",
      "\n",
      "[1000 rows x 3 columns]\n"
     ]
    }
   ],
   "source": [
    "# Polarity tables for Google messages\n",
    "print(\"The Polarity table from Textblob:\")\n",
    "print(textblobpolarity(reviewcolumn))\n",
    "print(\"\")\n",
    "print(\"The Polarity table from Vader:\")\n",
    "print(vaderpolarity(reviewcolumn))"
   ]
  },
  {
   "cell_type": "markdown",
   "id": "2eab3e99",
   "metadata": {},
   "source": [
    "TASK 4: TOPIC MODELING Using LDA"
   ]
  },
  {
   "cell_type": "code",
   "execution_count": 38,
   "id": "ae123901",
   "metadata": {},
   "outputs": [
    {
     "name": "stdout",
     "output_type": "stream",
     "text": [
      "Requirement already satisfied: gensim in c:\\users\\sejal\\appdata\\local\\programs\\python\\python310\\lib\\site-packages (4.3.1)\n",
      "Requirement already satisfied: numpy>=1.18.5 in c:\\users\\sejal\\appdata\\local\\programs\\python\\python310\\lib\\site-packages (from gensim) (1.23.3)\n",
      "Requirement already satisfied: scipy>=1.7.0 in c:\\users\\sejal\\appdata\\local\\programs\\python\\python310\\lib\\site-packages (from gensim) (1.9.2)\n",
      "Requirement already satisfied: smart-open>=1.8.1 in c:\\users\\sejal\\appdata\\local\\programs\\python\\python310\\lib\\site-packages (from gensim) (6.3.0)\n",
      "Note: you may need to restart the kernel to use updated packages.\n"
     ]
    }
   ],
   "source": [
    "pip install gensim"
   ]
  },
  {
   "cell_type": "code",
   "execution_count": 39,
   "id": "17207161",
   "metadata": {},
   "outputs": [],
   "source": [
    "import gensim\n",
    "from gensim.corpora import Dictionary\n",
    "from gensim.models.ldamodel import LdaModel"
   ]
  },
  {
   "cell_type": "code",
   "execution_count": 40,
   "id": "39a48345",
   "metadata": {},
   "outputs": [
    {
     "name": "stdout",
     "output_type": "stream",
     "text": [
      "Topic 1: ['app', 'great', 'awesome', 'chat', 'change', 'update', 'message']\n",
      "Topic 2: ['message', 'cant', 'reply', 'code', 'short', 'update', 'bug']\n",
      "Topic 3: ['nice', 'app', 'excellent', 'use', 'phone', 'easy', 'apps']\n",
      "Topic 4: ['message', 'get', 'app', 'update', 'dont', 'send', 'annoying']\n",
      "Topic 5: ['ok', 'bad', 'like', 'update', 'msg', 'app', 'phone']\n",
      "Topic 6: ['good', 'app', 'best', 'blah', 'work', 'helpful', 'experience']\n",
      "Topic 7: ['app', 'use', 'easy', 'text', 'super', 'time', 'useful']\n",
      "Topic 8: ['app', 'love', 'message', 'send', 'notification', 'error', 'video']\n",
      "Topic 9: ['message', 'app', 'update', 'issue', 'phone', 'open', 'send']\n",
      "Topic 10: ['message', 'app', 'text', 'time', 'sometimes', 'love', 'receive']\n"
     ]
    }
   ],
   "source": [
    "# create a dictionary of the reviews\n",
    "dictionary = Dictionary([review.split() for review in reviewcolumn['Review']])\n",
    "\n",
    "# creates a corpus for the dictionary\n",
    "corpus = [dictionary.doc2bow(review.split()) for review in reviewcolumn['Review']]\n",
    "\n",
    "# Used the LDA Model according to Assignment instructions\n",
    "ldamodel = LdaModel(corpus=corpus, id2word=dictionary, num_topics=10, passes=10)\n",
    "\n",
    "for i, topic in ldamodel.show_topics(num_topics=10, num_words=7, formatted=False):\n",
    "    print(f\"Topic {i+1}: {[word[0] for word in topic]}\")"
   ]
  },
  {
   "cell_type": "markdown",
   "id": "3c85af56",
   "metadata": {},
   "source": [
    "I. All my apps have 1000+ reviews but I chose Google messages for Topic modelling as it has highest number of reviews available on Google play store."
   ]
  },
  {
   "cell_type": "markdown",
   "id": "59d39a1d",
   "metadata": {},
   "source": [
    "II. The topics have been extracted above."
   ]
  },
  {
   "cell_type": "markdown",
   "id": "e11e21a2",
   "metadata": {},
   "source": [
    "III. The software feature clusters 1, 2, 5, 7 obtained in Assignment 1 and 2 for the SUD are irrelevant to the topics obtained above for the Competitor app Google messages.\n",
    "Relevance: \n",
    "Topic 8 is relevant to cluster 4. Cluster 4 is about the requirement of notifications for users. Similarly, Topic 8 has description about notifications, which makes Google messages a competitor of QKSMS. As per the reviews obtained from Google messages and QKSMS, I manually went through the reviews searching for the reviews about notifications and it can be observed that the users of both the apps want the ability of custom notifications from the app which makes them a competitor. \n",
    "Topic 9,10 is relevant to cluster 6 which is about QKSMS being able to send, receive and process SMS messages. From topic 9 and 10, it can be concluded that the topic explains that Google messages is also a messaging app and its basic functionality is being able to send, read and process messages. \n",
    "Topic 1 is relevant to cluster 3. Cluster 3 is about custom theme options like automatic night mode. Similarly, topic 1 is also about users wanting more theme options which can be seen from the words \"change\" and \"update\". I went through the reviews of Google messages and found that its users want to change themes of the app which is already available in QKSMS making it a competitor app.\n",
    "On the basis of these relevance between the software feature clusters of QKSMS and the topics obtained for Google messages, it can be concluded that Google messages is a competitor of QKSMS. \n",
    "As Google messages is a messaging app, we can see that the word \"message\" is appearing multiple times and can be removed if we add it to the list of stop words to refine our topics."
   ]
  },
  {
   "cell_type": "markdown",
   "id": "ff2bbea2",
   "metadata": {},
   "source": [
    "IV. As Google apps had a lot of reviews, it was really beneficial to do the data analysis as we had a lot of information. But we were supposed to filter only 1000 reviews for topic modelling. So, I chose the 1000 most recent reviews as with the passage of time, the reviews become irrelevant. So, the size of the data was moderate for initial analysis and we can change it further if needed. Choosing 10 topics out of the 1000 reviews have resulted in a broad variety of topics. If I need to improve the results, I will need to increase the number of reviews to analyse or the number of topics to extract as a starting point for further analysis. Moreover, if we increase the number of reviews for performing the topic modelling, it might lead to capturing fake and spam reviews which will add noise to the topics obtained and might lead to inaccurate results. So, it is a matter of tuning the parameters to get the best possible results. Therefore, the accuracy of the model is dependent on various parameters. "
   ]
  },
  {
   "cell_type": "markdown",
   "id": "9f386e17",
   "metadata": {},
   "source": [
    "V. The core functionalities obtained from assignment 1 that are relevant to the topics obtained above are cluster 3 and 6. They are the core functionalities for both the SUD and the competitor app, Google messages. In assignment 2, UR10: \"Users require an intuitive design that allow them to focus on what matters.\" is also added to the core functionalities of QKSMS, which is also relevant to Google messages as Google messages is basically better in terms of providing intuitive design as it has less customisation options and focuses on just sending and receiving SMS/MMS."
   ]
  },
  {
   "cell_type": "markdown",
   "id": "b8d6b343",
   "metadata": {},
   "source": [
    "TASK 5: RECOMMENDATION"
   ]
  },
  {
   "cell_type": "markdown",
   "id": "a77d3f32",
   "metadata": {},
   "source": [
    "I. Enhancement 1: As per https://github.com/moezbhatti/qksms/issues/1699, users are facing an issue when changing the theme color of the app. Therefore, the transition should be smooth and seamless. There should be no jankiness. I also went through the issues reported on Github and this issue has not been resolved yet. This can be improved by changing the animation code or maybe using different animation library or other solutions. It is in the list of backlog, therefore, it is yet to be completed.\n",
    "Enhancement 2: As per https://github.com/moezbhatti/qksms/issues/1693, MIUI 11 has been facing issues with the notification sounds. So, the app should be updated to be fully compatible with the notification system in MIUI 11 which is different than other android systems. The issues should be fixed by fixing the errors in the code making it compatible with MIUI 11. I went through the issues reported on Github and this issue has not been resolved yet. Moreover, this bug report has been added to the list of backlog issues, which shows that this enhancement has not been applied yet."
   ]
  },
  {
   "cell_type": "markdown",
   "id": "dc89b17e",
   "metadata": {},
   "source": [
    "II. Similarity: The persona of Aislynn wants custom ringtones and notifications from QKSMS, which is similar to the users of MIUI 11 who are having issues with the notification system of MIUI 11. \n",
    "The persona of Timothy wants customisable theme options for the app and they should be working smoothly according to Enhancement 1 as the users are facing jankiness when changing the theme options of the app.\n",
    "Difference: There are no such differences between both the enhancements and the personas, they are just a subset of the needs of the personas."
   ]
  }
 ],
 "metadata": {
  "kernelspec": {
   "display_name": "Python 3 (ipykernel)",
   "language": "python",
   "name": "python3"
  },
  "language_info": {
   "codemirror_mode": {
    "name": "ipython",
    "version": 3
   },
   "file_extension": ".py",
   "mimetype": "text/x-python",
   "name": "python",
   "nbconvert_exporter": "python",
   "pygments_lexer": "ipython3",
   "version": "3.10.7"
  }
 },
 "nbformat": 4,
 "nbformat_minor": 5
}
